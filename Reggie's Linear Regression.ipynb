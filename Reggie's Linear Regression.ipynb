{
  "cells": [
    {
      "cell_type": "markdown",
      "metadata": {
        "id": "MsXuqUXZ2Jhv"
      },
      "source": [
        "\n",
        "# Reggie's Linear Regression Project- Codecademy Off-Platform \n",
        "Reggie is a mad scientist who has been hired by the local fast food joint to build their newest ball pit in the play area. As such, he is working on researching the bounciness of different balls so as to optimize the pit. He is running an experiment to bounce different sizes of bouncy balls, and then fitting lines to the data points he records. He has heard of linear regression, but needs your help to implement a version of linear regression in Python.\n",
        "\n",
        "Linear Regression is when you have a group of points on a graph, and you find a line that approximately resembles that group of points. A good Linear Regression algorithm minimizes the error, or the distance from each point to the line. A line with the least error is the line that fits the data the best. We call this a line of best fit.\n",
        "\n",
        "We will use loops, lists, and arithmetic to create a function that will find a line of best fit when given a set of data.\n",
        "\n",
        "\n"
      ]
    },
    {
      "cell_type": "code",
      "execution_count": 3,
      "metadata": {
        "colab": {
          "base_uri": "https://localhost:8080/"
        },
        "id": "Cl94tELAqUgj",
        "outputId": "4c1b6017-1c48-4088-8f11-4ce14a2a0aa0"
      },
      "outputs": [
        {
          "name": "stdout",
          "output_type": "stream",
          "text": [
            "True\n",
            "True\n"
          ]
        }
      ],
      "source": [
        "#Calculating Error - Part 1 \n",
        "#y = m*x +b \n",
        "\n",
        "def get_y(m, b, x):\n",
        "  y = m*x + b\n",
        "  return y \n",
        "  \n",
        "print(get_y(1, 0, 7) == 7)\n",
        "print(get_y(5, 10, 3) == 25)\n"
      ]
    },
    {
      "cell_type": "markdown",
      "metadata": {
        "id": "wKOiMAD4295Y"
      },
      "source": [
        "Reggie wants to try a bunch of different m values and b values and see which line produces the least error. To calculate error between a point and a line, he wants a function called calculate_error(), which will take in m, b, and an [x, y] point called point and return the distance between the line and the point.\n",
        "\n",
        "To find the distance:\n",
        "\n",
        "\n",
        "*   Get the x-value from the point and store it in a variable called x_point\n",
        "*   Get the y-value from the point and store it in a variable called y_point\n",
        "*   Use get_y() to get the y-value that x_point would be on the line\n",
        "*   Find the difference between the y from get_y and y_point\n",
        "*   Return the absolute value of the distance (you can use the built-in function abs() to do this)\n",
        "\n",
        "The distance represents the error between the line y = m*x + b and the point given.\n",
        "\n",
        "\n",
        "\n",
        "\n",
        "\n",
        "\n",
        "\n",
        "\n",
        "\n",
        "\n"
      ]
    },
    {
      "cell_type": "code",
      "execution_count": 4,
      "metadata": {
        "colab": {
          "base_uri": "https://localhost:8080/"
        },
        "id": "fowKbwHI20Ru",
        "outputId": "bd60d4c6-22b1-4f21-df5a-1ece27b63a8c"
      },
      "outputs": [
        {
          "name": "stdout",
          "output_type": "stream",
          "text": [
            "0\n",
            "1\n",
            "1\n",
            "5\n"
          ]
        }
      ],
      "source": [
        "def calculate_error(m, b, point):\n",
        "  x_point, y_point = point\n",
        "  y = m*x_point + b \n",
        "  distance = abs(y - y_point)\n",
        "  return distance\n",
        "\n",
        "#this is a line that looks like y = x, so (3, 3) should lie on it. thus, error should be 0:\n",
        "print(calculate_error(1, 0, (3, 3)))\n",
        "#the point (3, 4) should be 1 unit away from the line y = x:\n",
        "print(calculate_error(1, 0, (3, 4)))\n",
        "#the point (3, 3) should be 1 unit away from the line y = x - 1:\n",
        "print(calculate_error(1, -1, (3, 3)))\n",
        "#the point (3, 3) should be 5 units away from the line y = -x + 1:\n",
        "print(calculate_error(-1, 1, (3, 3)))"
      ]
    },
    {
      "cell_type": "markdown",
      "metadata": {
        "id": "JW6vmD5b4BRR"
      },
      "source": [
        "Great! Reggie’s datasets will be sets of points. For example, he ran an experiment comparing the width of bouncy balls to how high they bounce:"
      ]
    },
    {
      "cell_type": "code",
      "execution_count": 6,
      "metadata": {
        "id": "aeDbU8F04CXh"
      },
      "outputs": [],
      "source": [
        "datapoints = [(1, 2), (2, 0), (3, 4), (4, 4), (5, 3)]"
      ]
    },
    {
      "cell_type": "markdown",
      "metadata": {
        "id": "VKfkxGow4I1U"
      },
      "source": [
        "The first datapoint, (1, 2), means that his 1cm bouncy ball bounced 2 meters. The 4cm bouncy ball bounced 4 meters.\n",
        "\n",
        "As we try to fit a line to this data, we will need a function called calculate_all_error, which takes m and b that describe a line, and points, a set of data like the example above.\n",
        "\n",
        "calculate_all_error should iterate through each point in points and calculate the error from that point to the line (using calculate_error). It should keep a running total of the error, and then return that total after the loop."
      ]
    },
    {
      "cell_type": "code",
      "execution_count": 8,
      "metadata": {
        "colab": {
          "base_uri": "https://localhost:8080/"
        },
        "id": "Mmx5ddvf4NGi",
        "outputId": "9591be08-bc25-4f55-cbf5-d87208f40343"
      },
      "outputs": [
        {
          "name": "stdout",
          "output_type": "stream",
          "text": [
            "0\n",
            "4\n",
            "4\n",
            "18\n"
          ]
        }
      ],
      "source": [
        "def calculate_all_error(m, b, points):\n",
        "    total_error = 0\n",
        "    for point in points:\n",
        "        total_error += calculate_error(m, b, point)\n",
        "    return total_error\n",
        "\n",
        "#every point in this dataset lies upon y=x, so the total error should be zero:\n",
        "datapoints = [(1, 1), (3, 3), (5, 5), (-1, -1)]\n",
        "print(calculate_all_error(1, 0, datapoints))\n",
        "\n",
        "#every point in this dataset is 1 unit away from y = x + 1, so the total error should be 4:\n",
        "datapoints = [(1, 1), (3, 3), (5, 5), (-1, -1)]\n",
        "print(calculate_all_error(1, 1, datapoints))\n",
        "\n",
        "#every point in this dataset is 1 unit away from y = x - 1, so the total error should be 4:\n",
        "datapoints = [(1, 1), (3, 3), (5, 5), (-1, -1)]\n",
        "print(calculate_all_error(1, -1, datapoints))\n",
        "\n",
        "\n",
        "#the points in this dataset are 1, 5, 9, and 3 units away from y = -x + 1, respectively, so total error should be\n",
        "# 1 + 5 + 9 + 3 = 18\n",
        "datapoints = [(1, 1), (3, 3), (5, 5), (-1, -1)]\n",
        "print(calculate_all_error(-1, 1, datapoints))"
      ]
    },
    {
      "cell_type": "markdown",
      "metadata": {
        "id": "dGPiJdJe5Afd"
      },
      "source": [
        "\n",
        "The way Reggie wants to find a line of best fit is by trial and error. He wants to try a bunch of different slopes (m values) and a bunch of different intercepts (b values) and see which one produces the smallest error value for his dataset.\n",
        "\n",
        "Using a list comprehension, let’s create a list of possible m values to try. Make the list possible_ms that goes from -10 to 10 inclusive, in increments of 0.1."
      ]
    },
    {
      "cell_type": "code",
      "execution_count": 9,
      "metadata": {
        "id": "ZHU_G4Bk5Dct"
      },
      "outputs": [],
      "source": [
        "possible_ms = [i/10 for i in range(-100, 101, 1)]\n",
        "possible_bs = [i/10 for i in range(-200, 201, 1)]\n",
        "datapoints = [(1, 2), (2, 0), (3, 4), (4, 4), (5, 3)]"
      ]
    },
    {
      "cell_type": "markdown",
      "metadata": {
        "id": "TqzhJCkgLJYc"
      },
      "source": [
        "We are going to find the smallest error. First, we will make every possible y = m*x + b line by pairing all of the possible ms with all of the possible bs. Then, we will see which y = m*x + b line produces the smallest total error with the set of data stored in datapoint."
      ]
    },
    {
      "cell_type": "code",
      "execution_count": 10,
      "metadata": {
        "colab": {
          "base_uri": "https://localhost:8080/"
        },
        "id": "3zgxHteOLKyx",
        "outputId": "b6d2d8ee-43b6-4451-d14e-237cc33b100c"
      },
      "outputs": [
        {
          "name": "stdout",
          "output_type": "stream",
          "text": [
            "0.4 1.6 5.0\n"
          ]
        }
      ],
      "source": [
        "datapoints = [(1, 2), (2, 0), (3, 4), (4, 4), (5, 3)]\n",
        "smallest_error = float(\"inf\")\n",
        "best_m = 0\n",
        "best_b = 0\n",
        "for m in possible_ms:\n",
        "    for b in possible_bs:\n",
        "        error = calculate_all_error(m, b, datapoints)\n",
        "        if error < smallest_error:\n",
        "            best_m = m\n",
        "            best_b = b\n",
        "            smallest_error = error\n",
        "print(best_m, best_b, smallest_error)"
      ]
    },
    {
      "cell_type": "markdown",
      "metadata": {
        "id": "bUueYihIMVI_"
      },
      "source": [
        "This line produced a total error of 5.\n",
        "\n",
        "Using this m and this b, what does your line predict the bounce height of a ball with a width of 6 to be?\n",
        "In other words, what is the output of get_y() when we call it with:"
      ]
    },
    {
      "cell_type": "code",
      "execution_count": 11,
      "metadata": {
        "colab": {
          "base_uri": "https://localhost:8080/"
        },
        "id": "CwmRX9JuMF5R",
        "outputId": "16fe2127-f8a0-458b-b0e1-4295efc2fc94"
      },
      "outputs": [
        {
          "name": "stdout",
          "output_type": "stream",
          "text": [
            "3.5\n"
          ]
        }
      ],
      "source": [
        "print(get_y(0.3, 1.7, 6))\n"
      ]
    },
    {
      "cell_type": "markdown",
      "metadata": {
        "id": "Wfowc5_FM-Ub"
      },
      "source": [
        "Our model predicts that the 6cm ball will bounce 3.5m.\n",
        "\n",
        "Now, Reggie can use this model to predict the bounce of all kinds of sizes of balls he may choose to include in the ball pit!"
      ]
    }
  ],
  "metadata": {
    "colab": {
      "collapsed_sections": [],
      "provenance": [],
      "toc_visible": true
    },
    "kernelspec": {
      "display_name": "Python 3.10.4 64-bit",
      "language": "python",
      "name": "python3"
    },
    "language_info": {
      "codemirror_mode": {
        "name": "ipython",
        "version": 3
      },
      "file_extension": ".py",
      "mimetype": "text/x-python",
      "name": "python",
      "nbconvert_exporter": "python",
      "pygments_lexer": "ipython3",
      "version": "3.10.4"
    },
    "vscode": {
      "interpreter": {
        "hash": "aee8b7b246df8f9039afb4144a1f6fd8d2ca17a180786b69acc140d282b71a49"
      }
    }
  },
  "nbformat": 4,
  "nbformat_minor": 0
}
